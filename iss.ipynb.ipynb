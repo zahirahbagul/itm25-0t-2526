{
 "cells": [
  {
   "cell_type": "code",
   "execution_count": null,
   "id": "bf083d01-8eed-4fdc-821e-54313c2c69d2",
   "metadata": {},
   "outputs": [],
   "source": [
    "!pip install requests matplotlib\n"
   ]
  },
  {
   "cell_type": "code",
   "execution_count": null,
   "id": "dd3228bf-85e3-4ef0-97e5-43db3ffff320",
   "metadata": {},
   "outputs": [],
   "source": [
    "import requests\n",
    "import time\n",
    "\n",
    "data_points = []\n",
    "\n",
    "for _ in range(100):  # or just 3 for testing\n",
    "    response = requests.get(\"https://api.wheretheiss.at/v1/satellites/25544\")\n",
    "    if response.status_code == 200:\n",
    "        result = response.json()\n",
    "        lat = result['latitude']\n",
    "        lon = result['longitude']\n",
    "        timestamp = result['timestamp']  # optional, can also use time.time()\n",
    "        data_points.append((lat, lon, timestamp))\n",
    "        print(f\"📍 Lat: {lat}, Lon: {lon}, Time: {timestamp}\")\n",
    "    else:\n",
    "        print(\"⚠️ Failed to fetch data.\")\n",
    "    \n",
    "    time.sleep(10)\n",
    "\n",
    "print(\"\\n✅ Done collecting data. Total points:\", len(data_points))\n"
   ]
  },
  {
   "cell_type": "code",
   "execution_count": null,
   "id": "8fdb4f1d-f54a-46fb-91c0-07ded2e6daab",
   "metadata": {},
   "outputs": [],
   "source": [
    "import matplotlib.pyplot as plt\n",
    "\n",
    "# Extract latitudes and longitudes\n",
    "lats = [point[0] for point in data_points]\n",
    "lons = [point[1] for point in data_points]\n",
    "\n",
    "plt.figure(figsize=(10, 6))\n",
    "plt.plot(lons, lats, marker='o', linestyle='-', color='blue')\n",
    "plt.title(\"ISS Path Around Earth\")\n",
    "plt.xlabel(\"Longitude\")\n",
    "plt.ylabel(\"Latitude\")\n",
    "plt.grid(True)\n",
    "plt.show()\n"
   ]
  },
  {
   "cell_type": "code",
   "execution_count": null,
   "id": "5a1eafe8-3ad8-495d-9fdb-b1179278f6ac",
   "metadata": {},
   "outputs": [],
   "source": []
  }
 ],
 "metadata": {
  "kernelspec": {
   "display_name": "Python [conda env:base] *",
   "language": "python",
   "name": "conda-base-py"
  },
  "language_info": {
   "codemirror_mode": {
    "name": "ipython",
    "version": 3
   },
   "file_extension": ".py",
   "mimetype": "text/x-python",
   "name": "python",
   "nbconvert_exporter": "python",
   "pygments_lexer": "ipython3",
   "version": "3.12.7"
  }
 },
 "nbformat": 4,
 "nbformat_minor": 5
}
