{
 "cells": [
  {
   "cell_type": "code",
   "execution_count": 1,
   "id": "a56b4fe6-33af-481a-8f7c-89e9a0ffcf23",
   "metadata": {},
   "outputs": [],
   "source": [
    "import urllib.request\n",
    "\n",
    "link = \"https://www.gutenberg.org/cache/epub/10/pg10.txt\"\n",
    "response = urllib.request.urlopen(link)\n",
    "raw_bytes = response.read()\n",
    "pg10 = raw_bytes.decode(\"utf-8\")\n"
   ]
  },
  {
   "cell_type": "code",
   "execution_count": 2,
   "id": "a643a885-af5a-410f-8148-8d1587517c59",
   "metadata": {},
   "outputs": [
    {
     "name": "stdout",
     "output_type": "stream",
     "text": [
      "Total number of lines: 99968\n"
     ]
    }
   ],
   "source": [
    "no_lines = len(pg10.splitlines())\n",
    "print(\"Total number of lines:\", no_lines)\n"
   ]
  },
  {
   "cell_type": "code",
   "execution_count": 3,
   "id": "4887c45b-9a58-4b58-9bcc-c6a72efecf0c",
   "metadata": {},
   "outputs": [
    {
     "name": "stdout",
     "output_type": "stream",
     "text": [
      "Total number of words: 795227\n"
     ]
    }
   ],
   "source": [
    "import re\n",
    "\n",
    "no_words = re.findall(r\"[a-zA-Z]+\", pg10)\n",
    "word_count = len(no_words)\n",
    "print(\"Total number of words:\", word_count)\n"
   ]
  },
  {
   "cell_type": "code",
   "execution_count": 4,
   "id": "0c02802f-4b97-4a5e-a69a-2674d75f9307",
   "metadata": {},
   "outputs": [
    {
     "name": "stdout",
     "output_type": "stream",
     "text": [
      "Number of times 'apostle' appears: 47\n"
     ]
    }
   ],
   "source": [
    "apostle_times = sum(1 for w in no_words if w.lower() == \"apostle\")\n",
    "print(\"Number of times 'apostle' appears:\", apostle_times)\n"
   ]
  },
  {
   "cell_type": "code",
   "execution_count": 5,
   "id": "7a30a8f5-fb04-4e8b-b8b5-64c8d004d697",
   "metadata": {},
   "outputs": [
    {
     "name": "stdout",
     "output_type": "stream",
     "text": [
      "Most common word: the\n",
      "Number of times it appeared: 64309\n"
     ]
    }
   ],
   "source": [
    "from collections import Counter\n",
    "\n",
    "word_tracker = Counter(w.lower() for w in no_words)\n",
    "most_common_word, occurrence = word_tracker.most_common(1)[0]\n",
    "print(\"Most common word:\", most_common_word)\n",
    "print(\"Number of times it appeared:\", occurrence)\n"
   ]
  },
  {
   "cell_type": "code",
   "execution_count": null,
   "id": "ff795726-91db-4b32-868b-02c23d50c997",
   "metadata": {},
   "outputs": [],
   "source": []
  }
 ],
 "metadata": {
  "kernelspec": {
   "display_name": "Python [conda env:base] *",
   "language": "python",
   "name": "conda-base-py"
  },
  "language_info": {
   "codemirror_mode": {
    "name": "ipython",
    "version": 3
   },
   "file_extension": ".py",
   "mimetype": "text/x-python",
   "name": "python",
   "nbconvert_exporter": "python",
   "pygments_lexer": "ipython3",
   "version": "3.12.7"
  }
 },
 "nbformat": 4,
 "nbformat_minor": 5
}
