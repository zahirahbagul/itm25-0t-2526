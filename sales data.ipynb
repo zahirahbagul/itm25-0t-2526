{
 "cells": [
  {
   "cell_type": "code",
   "execution_count": 15,
   "id": "18399326-9858-43b7-ad06-4d7d633a54f7",
   "metadata": {},
   "outputs": [],
   "source": [
    "import pandas as pd\n",
    "import matplotlib.pyplot as plt\n",
    "\n",
    "invoices = pd.read_csv(\"fct_invoice.csv\")\n",
    "customers = pd.read_json(\"dim_customer.json\")\n"
   ]
  },
  {
   "cell_type": "markdown",
   "id": "d883851b-5a2d-4fdd-8ce1-ba7bdb2db19d",
   "metadata": {},
   "source": [
    "Easy Questions"
   ]
  },
  {
   "cell_type": "markdown",
   "id": "863cfcd6-0137-4abf-9ddf-d94f28c40639",
   "metadata": {},
   "source": [
    "1. How many unique customers are in the dataset?"
   ]
  },
  {
   "cell_type": "code",
   "execution_count": 16,
   "id": "6aa5c7ec-6ed8-45de-bddb-6aa7108d03b2",
   "metadata": {},
   "outputs": [
    {
     "data": {
      "text/plain": [
       "5191"
      ]
     },
     "execution_count": 16,
     "metadata": {},
     "output_type": "execute_result"
    }
   ],
   "source": [
    "invoices['customer_id'].nunique()\n"
   ]
  },
  {
   "cell_type": "markdown",
   "id": "3c2571d0-db0c-4acc-8d6c-29e56efdb2ab",
   "metadata": {},
   "source": [
    "2. What are the different categories of products available? How many unique categories are there?"
   ]
  },
  {
   "cell_type": "code",
   "execution_count": 17,
   "id": "3cac7c0c-33b1-4cd7-9baa-b601749f884d",
   "metadata": {},
   "outputs": [
    {
     "data": {
      "text/plain": [
       "8"
      ]
     },
     "execution_count": 17,
     "metadata": {},
     "output_type": "execute_result"
    }
   ],
   "source": [
    "invoices['category'].unique()\n",
    "invoices['category'].nunique()\n"
   ]
  },
  {
   "cell_type": "markdown",
   "id": "92e3bd87-f0bc-4e3c-81a5-7314f8630fb2",
   "metadata": {},
   "source": [
    "3. Which payment method is the most popular? How many times was it used?"
   ]
  },
  {
   "cell_type": "code",
   "execution_count": 18,
   "id": "a8c8cbda-c7c9-46ef-b9f1-2acde2225498",
   "metadata": {},
   "outputs": [
    {
     "data": {
      "text/plain": [
       "payment_method\n",
       "Cash           44447\n",
       "Credit Card    34931\n",
       "Debit Card     20079\n",
       "Name: count, dtype: int64"
      ]
     },
     "execution_count": 18,
     "metadata": {},
     "output_type": "execute_result"
    }
   ],
   "source": [
    "invoices['payment_method'].value_counts()\n"
   ]
  },
  {
   "cell_type": "markdown",
   "id": "6a6d9b62-3ae9-4ecd-b3ac-8c79ae4ba1e7",
   "metadata": {},
   "source": [
    "Medium Questions"
   ]
  },
  {
   "cell_type": "markdown",
   "id": "9d548a62-fdfa-44bc-aa11-a948b18e24f3",
   "metadata": {},
   "source": [
    "1. What are the three most popular categories, by total sales?"
   ]
  },
  {
   "cell_type": "code",
   "execution_count": 19,
   "id": "e0fd3cfd-3acf-4387-8ab8-b1b7b6574def",
   "metadata": {},
   "outputs": [
    {
     "data": {
      "text/plain": [
       "category\n",
       "Clothing           103558\n",
       "Cosmetics           45465\n",
       "Food & Beverage     44277\n",
       "Name: quantity, dtype: int64"
      ]
     },
     "execution_count": 19,
     "metadata": {},
     "output_type": "execute_result"
    }
   ],
   "source": [
    "invoices.groupby('category')['quantity'].sum().sort_values(ascending=False).head(3)\n"
   ]
  },
  {
   "cell_type": "code",
   "execution_count": 25,
   "id": "8c0fc364-268b-4367-b01f-2a312eca7f13",
   "metadata": {},
   "outputs": [
    {
     "data": {
      "text/html": [
       "<div>\n",
       "<style scoped>\n",
       "    .dataframe tbody tr th:only-of-type {\n",
       "        vertical-align: middle;\n",
       "    }\n",
       "\n",
       "    .dataframe tbody tr th {\n",
       "        vertical-align: top;\n",
       "    }\n",
       "\n",
       "    .dataframe thead th {\n",
       "        text-align: right;\n",
       "    }\n",
       "</style>\n",
       "<table border=\"1\" class=\"dataframe\">\n",
       "  <thead>\n",
       "    <tr style=\"text-align: right;\">\n",
       "      <th></th>\n",
       "      <th>id</th>\n",
       "      <th>age</th>\n",
       "    </tr>\n",
       "  </thead>\n",
       "  <tbody>\n",
       "    <tr>\n",
       "      <th>0</th>\n",
       "      <td>0</td>\n",
       "      <td>48.0</td>\n",
       "    </tr>\n",
       "    <tr>\n",
       "      <th>2</th>\n",
       "      <td>2</td>\n",
       "      <td>57.0</td>\n",
       "    </tr>\n",
       "    <tr>\n",
       "      <th>3</th>\n",
       "      <td>3</td>\n",
       "      <td>73.0</td>\n",
       "    </tr>\n",
       "    <tr>\n",
       "      <th>4</th>\n",
       "      <td>4</td>\n",
       "      <td>20.0</td>\n",
       "    </tr>\n",
       "    <tr>\n",
       "      <th>6</th>\n",
       "      <td>6</td>\n",
       "      <td>83.0</td>\n",
       "    </tr>\n",
       "  </tbody>\n",
       "</table>\n",
       "</div>"
      ],
      "text/plain": [
       "   id   age\n",
       "0   0  48.0\n",
       "2   2  57.0\n",
       "3   3  73.0\n",
       "4   4  20.0\n",
       "6   6  83.0"
      ]
     },
     "execution_count": 25,
     "metadata": {},
     "output_type": "execute_result"
    }
   ],
   "source": [
    "import pandas as pd\n",
    "import json\n",
    "\n",
    "with open(\"dim_customer.json\") as f:\n",
    "    data = json.load(f)\n",
    "\n",
    "age = data['age']\n",
    "\n",
    "customers = pd.DataFrame(list(age.items()), columns=['id', 'age'])\n",
    "\n",
    "customers['id'] = customers['id'].astype(int)\n",
    "\n",
    "# delete missing ages\n",
    "customers = customers.dropna()\n",
    "\n",
    "customers.head()\n"
   ]
  },
  {
   "cell_type": "markdown",
   "id": "0e813b65-7abc-4490-b0ec-201f9201cb0c",
   "metadata": {},
   "source": [
    "2. What are the total sales attributed to customers over the age of 45?"
   ]
  },
  {
   "cell_type": "code",
   "execution_count": 27,
   "id": "5dd2bf5c-0234-4e8e-96f4-debb7fbc88f6",
   "metadata": {},
   "outputs": [
    {
     "data": {
      "text/plain": [
       "22340695.65"
      ]
     },
     "execution_count": 27,
     "metadata": {},
     "output_type": "execute_result"
    }
   ],
   "source": [
    "merged = pd.merge(invoices, customers, left_on='customer_id', right_on='id')\n",
    "\n",
    "merged[merged['age'] > 45]['price'].sum()\n"
   ]
  },
  {
   "cell_type": "markdown",
   "id": "5c817def-b588-4554-b205-9d7eaf285822",
   "metadata": {},
   "source": [
    "3. How is the data distributed across different invoice dates? Are there any seasonal trends or patterns? (Use a graph)"
   ]
  },
  {
   "cell_type": "code",
   "execution_count": 28,
   "id": "a45e621d-22b6-4e6d-8510-a5f328fa3d2c",
   "metadata": {},
   "outputs": [],
   "source": [
    "invoices['invoice_date'] = pd.to_datetime(invoices['invoice_date'], dayfirst=True)\n"
   ]
  },
  {
   "cell_type": "code",
   "execution_count": 29,
   "id": "eb6f2272-26a3-4129-9790-3de8cab79e28",
   "metadata": {},
   "outputs": [],
   "source": [
    "monthly_sales = invoices.groupby(invoices['invoice_date'].dt.to_period('M'))['price'].sum()\n"
   ]
  },
  {
   "cell_type": "code",
   "execution_count": 31,
   "id": "bd1d7f01-9906-4aca-8f4d-1702dd7e415c",
   "metadata": {},
   "outputs": [
    {
     "data": {
      "image/png": "[encoded data removed]",
      "text/plain": [
       "<Figure size 1000x500 with 1 Axes>"
      ]
     },
     "metadata": {},
     "output_type": "display_data"
    }
   ],
   "source": [
    "monthly_sales.plot(kind='line', marker='o', figsize=(10,5), title='Sales Trend By Month')\n",
    "plt.xlabel(\"Month\")\n",
    "plt.ylabel(\"Sales\")\n",
    "plt.grid(True)\n",
    "plt.show()\n"
   ]
  },
  {
   "cell_type": "markdown",
   "id": "6ce94c8f-a7c3-4f00-834e-9ad3de33498a",
   "metadata": {},
   "source": [
    "Hard Questions"
   ]
  },
  {
   "cell_type": "markdown",
   "id": "0240290b-555d-457b-9bde-b8b7b3e9bce3",
   "metadata": {},
   "source": [
    "1. Create a pivot table showing the breakdown of sales across these dimensions, in this order: category, decade age range (e.g., 10-19, 20-29, and so forth)."
   ]
  },
  {
   "cell_type": "code",
   "execution_count": 32,
   "id": "39861d57-dce8-43e2-af0a-b1f6e83f9bec",
   "metadata": {},
   "outputs": [],
   "source": [
    "customers['age_group'] = pd.cut(customers['age'], bins=range(0, 101, 10))"
   ]
  },
  {
   "cell_type": "code",
   "execution_count": 33,
   "id": "6f40b6ac-ce34-4cf9-9f22-65c1fb5ffd60",
   "metadata": {},
   "outputs": [],
   "source": [
    "merged = pd.merge(invoices, customers, left_on='customer_id', right_on='id')\n"
   ]
  },
  {
   "cell_type": "code",
   "execution_count": 36,
   "id": "d1a66442-7f70-4259-82ff-d35477b157c9",
   "metadata": {},
   "outputs": [
    {
     "name": "stderr",
     "output_type": "stream",
     "text": [
      "/var/folders/zb/b64v510j2cn1tcph4cmhznxc0000gp/T/ipykernel_1421/25415469.py:1: FutureWarning: The default value of observed=False is deprecated and will change to observed=True in a future version of pandas. Specify observed=False to silence this warning and retain the current behavior\n",
      "  pd.pivot_table(\n"
     ]
    },
    {
     "data": {
      "text/html": [
       "<div>\n",
       "<style scoped>\n",
       "    .dataframe tbody tr th:only-of-type {\n",
       "        vertical-align: middle;\n",
       "    }\n",
       "\n",
       "    .dataframe tbody tr th {\n",
       "        vertical-align: top;\n",
       "    }\n",
       "\n",
       "    .dataframe thead th {\n",
       "        text-align: right;\n",
       "    }\n",
       "</style>\n",
       "<table border=\"1\" class=\"dataframe\">\n",
       "  <thead>\n",
       "    <tr style=\"text-align: right;\">\n",
       "      <th>age_group</th>\n",
       "      <th>(0, 10]</th>\n",
       "      <th>(10, 20]</th>\n",
       "      <th>(20, 30]</th>\n",
       "      <th>(30, 40]</th>\n",
       "      <th>(40, 50]</th>\n",
       "      <th>(50, 60]</th>\n",
       "      <th>(60, 70]</th>\n",
       "      <th>(70, 80]</th>\n",
       "      <th>(80, 90]</th>\n",
       "      <th>(90, 100]</th>\n",
       "    </tr>\n",
       "    <tr>\n",
       "      <th>category</th>\n",
       "      <th></th>\n",
       "      <th></th>\n",
       "      <th></th>\n",
       "      <th></th>\n",
       "      <th></th>\n",
       "      <th></th>\n",
       "      <th></th>\n",
       "      <th></th>\n",
       "      <th></th>\n",
       "      <th></th>\n",
       "    </tr>\n",
       "  </thead>\n",
       "  <tbody>\n",
       "    <tr>\n",
       "      <th>Books</th>\n",
       "      <td>0.0</td>\n",
       "      <td>5287.35</td>\n",
       "      <td>21285.75</td>\n",
       "      <td>23149.20</td>\n",
       "      <td>21876.60</td>\n",
       "      <td>21740.25</td>\n",
       "      <td>20422.20</td>\n",
       "      <td>15756.00</td>\n",
       "      <td>5999.40</td>\n",
       "      <td>0.0</td>\n",
       "    </tr>\n",
       "    <tr>\n",
       "      <th>Clothing</th>\n",
       "      <td>0.0</td>\n",
       "      <td>804214.40</td>\n",
       "      <td>2744231.60</td>\n",
       "      <td>3079420.96</td>\n",
       "      <td>3010402.56</td>\n",
       "      <td>2966590.88</td>\n",
       "      <td>2699219.60</td>\n",
       "      <td>2123366.08</td>\n",
       "      <td>1023572.88</td>\n",
       "      <td>0.0</td>\n",
       "    </tr>\n",
       "    <tr>\n",
       "      <th>Cosmetics</th>\n",
       "      <td>0.0</td>\n",
       "      <td>47653.52</td>\n",
       "      <td>159834.46</td>\n",
       "      <td>196103.18</td>\n",
       "      <td>177114.96</td>\n",
       "      <td>171910.48</td>\n",
       "      <td>161867.46</td>\n",
       "      <td>116084.30</td>\n",
       "      <td>58387.76</td>\n",
       "      <td>0.0</td>\n",
       "    </tr>\n",
       "    <tr>\n",
       "      <th>Food &amp; Beverage</th>\n",
       "      <td>0.0</td>\n",
       "      <td>5460.12</td>\n",
       "      <td>20459.76</td>\n",
       "      <td>24251.51</td>\n",
       "      <td>22891.71</td>\n",
       "      <td>21406.39</td>\n",
       "      <td>20705.57</td>\n",
       "      <td>15083.32</td>\n",
       "      <td>6971.59</td>\n",
       "      <td>0.0</td>\n",
       "    </tr>\n",
       "    <tr>\n",
       "      <th>Shoes</th>\n",
       "      <td>0.0</td>\n",
       "      <td>391310.84</td>\n",
       "      <td>1682876.68</td>\n",
       "      <td>1889335.16</td>\n",
       "      <td>1817314.76</td>\n",
       "      <td>1690078.72</td>\n",
       "      <td>1481819.73</td>\n",
       "      <td>1275361.25</td>\n",
       "      <td>581564.73</td>\n",
       "      <td>0.0</td>\n",
       "    </tr>\n",
       "    <tr>\n",
       "      <th>Souvenir</th>\n",
       "      <td>0.0</td>\n",
       "      <td>5266.77</td>\n",
       "      <td>14791.53</td>\n",
       "      <td>17231.37</td>\n",
       "      <td>17196.18</td>\n",
       "      <td>16105.29</td>\n",
       "      <td>14521.74</td>\n",
       "      <td>10568.73</td>\n",
       "      <td>5372.34</td>\n",
       "      <td>0.0</td>\n",
       "    </tr>\n",
       "    <tr>\n",
       "      <th>Technology</th>\n",
       "      <td>0.0</td>\n",
       "      <td>454650.00</td>\n",
       "      <td>1394400.00</td>\n",
       "      <td>1650600.00</td>\n",
       "      <td>1573950.00</td>\n",
       "      <td>1294650.00</td>\n",
       "      <td>1442700.00</td>\n",
       "      <td>1017450.00</td>\n",
       "      <td>433650.00</td>\n",
       "      <td>0.0</td>\n",
       "    </tr>\n",
       "    <tr>\n",
       "      <th>Toys</th>\n",
       "      <td>0.0</td>\n",
       "      <td>25768.96</td>\n",
       "      <td>100316.16</td>\n",
       "      <td>117447.68</td>\n",
       "      <td>103470.08</td>\n",
       "      <td>98201.60</td>\n",
       "      <td>92682.24</td>\n",
       "      <td>77808.64</td>\n",
       "      <td>34693.12</td>\n",
       "      <td>0.0</td>\n",
       "    </tr>\n",
       "  </tbody>\n",
       "</table>\n",
       "</div>"
      ],
      "text/plain": [
       "age_group        (0, 10]   (10, 20]    (20, 30]    (30, 40]    (40, 50]  \\\n",
       "category                                                                  \n",
       "Books                0.0    5287.35    21285.75    23149.20    21876.60   \n",
       "Clothing             0.0  804214.40  2744231.60  3079420.96  3010402.56   \n",
       "Cosmetics            0.0   47653.52   159834.46   196103.18   177114.96   \n",
       "Food & Beverage      0.0    5460.12    20459.76    24251.51    22891.71   \n",
       "Shoes                0.0  391310.84  1682876.68  1889335.16  1817314.76   \n",
       "Souvenir             0.0    5266.77    14791.53    17231.37    17196.18   \n",
       "Technology           0.0  454650.00  1394400.00  1650600.00  1573950.00   \n",
       "Toys                 0.0   25768.96   100316.16   117447.68   103470.08   \n",
       "\n",
       "age_group          (50, 60]    (60, 70]    (70, 80]    (80, 90]  (90, 100]  \n",
       "category                                                                    \n",
       "Books              21740.25    20422.20    15756.00     5999.40        0.0  \n",
       "Clothing         2966590.88  2699219.60  2123366.08  1023572.88        0.0  \n",
       "Cosmetics         171910.48   161867.46   116084.30    58387.76        0.0  \n",
       "Food & Beverage    21406.39    20705.57    15083.32     6971.59        0.0  \n",
       "Shoes            1690078.72  1481819.73  1275361.25   581564.73        0.0  \n",
       "Souvenir           16105.29    14521.74    10568.73     5372.34        0.0  \n",
       "Technology       1294650.00  1442700.00  1017450.00   433650.00        0.0  \n",
       "Toys               98201.60    92682.24    77808.64    34693.12        0.0  "
      ]
     },
     "execution_count": 36,
     "metadata": {},
     "output_type": "execute_result"
    }
   ],
   "source": [
    "pd.pivot_table(\n",
    "    merged,\n",
    "    index='category',\n",
    "    columns='age_group',\n",
    "    values='price',\n",
    "    aggfunc='sum'\n",
    "\n",
    ")\n"
   ]
  }
 ],
 "metadata": {
  "kernelspec": {
   "display_name": "Python [conda env:base] *",
   "language": "python",
   "name": "conda-base-py"
  },
  "language_info": {
   "codemirror_mode": {
    "name": "ipython",
    "version": 3
   },
   "file_extension": ".py",
   "mimetype": "text/x-python",
   "name": "python",
   "nbconvert_exporter": "python",
   "pygments_lexer": "ipython3",
   "version": "3.12.7"
  }
 },
 "nbformat": 4,
 "nbformat_minor": 5
}
